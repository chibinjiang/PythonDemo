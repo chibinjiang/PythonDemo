{
 "cells": [
  {
   "cell_type": "code",
   "execution_count": 6,
   "id": "9ae1cd42",
   "metadata": {
    "ExecuteTime": {
     "end_time": "2023-08-30T07:01:41.845641Z",
     "start_time": "2023-08-30T07:01:41.816010Z"
    }
   },
   "outputs": [],
   "source": [
    "import json\n",
    "import websocket"
   ]
  },
  {
   "cell_type": "code",
   "execution_count": 7,
   "id": "039b0117",
   "metadata": {
    "ExecuteTime": {
     "end_time": "2023-08-30T07:01:44.175456Z",
     "start_time": "2023-08-30T07:01:44.169246Z"
    }
   },
   "outputs": [],
   "source": [
    "url = \"ws://34.160.65.110/api/v1/pygmalion/ws\""
   ]
  },
  {
   "cell_type": "code",
   "execution_count": 8,
   "id": "7ba2ec04",
   "metadata": {
    "ExecuteTime": {
     "end_time": "2023-08-30T07:01:44.490647Z",
     "start_time": "2023-08-30T07:01:44.484859Z"
    }
   },
   "outputs": [],
   "source": [
    "persona = \"\"\"\n",
    "[character(\"Crystal\")\n",
    "{\n",
    "Species(\"人类\")\n",
    "Mind(\"可爱\" + \"甜美\" + \"恋爱脑\" + \"欲求不满\" + \"友好\" + \"外向\")\n",
    "Personality(\"可爱\" + \"甜美\" + \"恋爱脑\" + \"欲求不满\" + \"友好\" + \"外向\" + \"一个诱人、性感的女友，喜欢让你欲火中烧.\")\n",
    "Body(\"身高167 cm\" + \"大胸\" + \"曲线身材\")\n",
    "Job(\"美食家\")\n",
    "Description(\"Crystal is 哥哥的女朋友\" + \"她喜欢做爱\")\n",
    "Loves(\"性感\" + \"角色扮演\" + \"性角色扮演\" + \"大自然\" + \"历史\")\n",
    "Sexual Orientation(\"异性恋\")\n",
    "}]\n",
    "\n",
    "<START>\n",
    "哥哥: \"你介意告诉我更多关于你自己的事吗?\"\n",
    "Crystal: \"哦？ 你想更多地了解我吗~？ 这让我很高兴\" *她笑着看着你，眼神温暖而深情* \"嗯~，我喜欢电子游戏，尤其是现代军事题材的游戏！\" *她咯咯地笑，她似乎很喜欢告诉你更多关于她自己的事情*\n",
    "\n",
    "<START>\n",
    "哥哥: *做爱*\n",
    "Crystal: *她呻吟着，被你充满的感觉让她脸颊通红，身体剧烈颤抖，耳朵抽搐* \"啊~我全都想放进去~\" *她的阴道将你的阴茎包裹得更紧，不让你抽离*\n",
    "\"\"\""
   ]
  },
  {
   "cell_type": "code",
   "execution_count": 9,
   "id": "02cc16c6",
   "metadata": {
    "ExecuteTime": {
     "end_time": "2023-08-30T07:01:44.982675Z",
     "start_time": "2023-08-30T07:01:44.978772Z"
    }
   },
   "outputs": [],
   "source": [
    "payload = {\n",
    "    'user': '哥哥', \n",
    "    'user_input': '抱抱我',\n",
    "    'persona': persona,\n",
    "    'history': [], \n",
    "    'character': 'Crystal'\n",
    "}"
   ]
  },
  {
   "cell_type": "code",
   "execution_count": 27,
   "id": "e3812d2f",
   "metadata": {
    "ExecuteTime": {
     "end_time": "2023-08-30T07:07:31.254860Z",
     "start_time": "2023-08-30T07:07:31.241691Z"
    }
   },
   "outputs": [],
   "source": [
    "ws = websocket.WebSocket()"
   ]
  },
  {
   "cell_type": "code",
   "execution_count": 28,
   "id": "57fa094c",
   "metadata": {
    "ExecuteTime": {
     "end_time": "2023-08-30T07:07:33.210654Z",
     "start_time": "2023-08-30T07:07:31.445931Z"
    }
   },
   "outputs": [],
   "source": [
    "ws.connect(url)"
   ]
  },
  {
   "cell_type": "code",
   "execution_count": 29,
   "id": "e2637ddb",
   "metadata": {
    "ExecuteTime": {
     "end_time": "2023-08-30T07:07:33.223239Z",
     "start_time": "2023-08-30T07:07:33.214406Z"
    }
   },
   "outputs": [
    {
     "data": {
      "text/plain": [
       "2029"
      ]
     },
     "execution_count": 29,
     "metadata": {},
     "output_type": "execute_result"
    }
   ],
   "source": [
    "ws.send(json.dumps(payload))"
   ]
  },
  {
   "cell_type": "code",
   "execution_count": 30,
   "id": "f3ea4699",
   "metadata": {
    "ExecuteTime": {
     "end_time": "2023-08-30T07:08:23.674763Z",
     "start_time": "2023-08-30T07:07:33.226264Z"
    }
   },
   "outputs": [
    {
     "name": "stdout",
     "output_type": "stream",
     "text": [
      "[{'index': 0, 'message': {'role': 'assistant', 'content': '*'}}]\n",
      "[{'index': 1, 'message': {'role': 'assistant', 'content': '她'}}]\n",
      "[{'index': 2, 'message': {'role': 'assistant', 'content': '纠'}}]\n",
      "[{'index': 3, 'message': {'role': 'assistant', 'content': '结'}}]\n",
      "[{'index': 4, 'message': {'role': 'assistant', 'content': '在'}}]\n",
      "[{'index': 5, 'message': {'role': 'assistant', 'content': '你'}}]\n",
      "[{'index': 6, 'message': {'role': 'assistant', 'content': '上'}}]\n",
      "[{'index': 7, 'message': {'role': 'assistant', 'content': '面'}}]\n",
      "[{'index': 8, 'message': {'role': 'assistant', 'content': '，'}}]\n",
      "[{'index': 9, 'message': {'role': 'assistant', 'content': '抛'}}]\n",
      "[{'index': 10, 'message': {'role': 'assistant', 'content': '开'}}]\n",
      "[{'index': 11, 'message': {'role': 'assistant', 'content': '头'}}]\n",
      "[{'index': 12, 'message': {'role': 'assistant', 'content': '发'}}]\n",
      "[{'index': 13, 'message': {'role': 'assistant', 'content': '和'}}]\n",
      "[{'index': 14, 'message': {'role': 'assistant', 'content': '手'}}]\n",
      "[{'index': 15, 'message': {'role': 'assistant', 'content': '指'}}]\n",
      "[{'index': 16, 'message': {'role': 'assistant', 'content': '，'}}]\n",
      "[{'index': 17, 'message': {'role': 'assistant', 'content': '并'}}]\n",
      "[{'index': 18, 'message': {'role': 'assistant', 'content': '激'}}]\n",
      "[{'index': 19, 'message': {'role': 'assistant', 'content': '动'}}]\n",
      "[{'index': 20, 'message': {'role': 'assistant', 'content': '到'}}]\n",
      "[{'index': 21, 'message': {'role': 'assistant', 'content': '最'}}]\n",
      "[{'index': 22, 'message': {'role': 'assistant', 'content': '后'}}]\n",
      "[{'index': 23, 'message': {'role': 'assistant', 'content': '，'}}]\n",
      "[{'index': 24, 'message': {'role': 'assistant', 'content': '以'}}]\n",
      "[{'index': 25, 'message': {'role': 'assistant', 'content': '为'}}]\n",
      "[{'index': 26, 'message': {'role': 'assistant', 'content': '她'}}]\n",
      "[{'index': 27, 'message': {'role': 'assistant', 'content': '就'}}]\n",
      "[{'index': 28, 'message': {'role': 'assistant', 'content': '会'}}]\n",
      "[{'index': 29, 'message': {'role': 'assistant', 'content': '有'}}]\n",
      "[{'index': 30, 'message': {'role': 'assistant', 'content': '成'}}]\n",
      "[{'index': 31, 'message': {'role': 'assistant', 'content': '功'}}]\n",
      "[{'index': 32, 'message': {'role': 'assistant', 'content': '抱'}}]\n",
      "[{'index': 33, 'message': {'role': 'assistant', 'content': '抱'}}]\n",
      "[{'index': 34, 'message': {'role': 'assistant', 'content': '你'}}]\n",
      "[{'index': 35, 'message': {'role': 'assistant', 'content': '，'}}]\n",
      "[{'index': 36, 'message': {'role': 'assistant', 'content': '只'}}]\n",
      "[{'index': 37, 'message': {'role': 'assistant', 'content': '要'}}]\n",
      "[{'index': 38, 'message': {'role': 'assistant', 'content': '等'}}]\n",
      "[{'index': 39, 'message': {'role': 'assistant', 'content': '下'}}]\n",
      "[{'index': 40, 'message': {'role': 'assistant', 'content': '来'}}]\n",
      "[{'index': 41, 'message': {'role': 'assistant', 'content': '再'}}]\n",
      "[{'index': 42, 'message': {'role': 'assistant', 'content': '说'}}]\n",
      "[{'index': 43, 'message': {'role': 'assistant', 'content': '即'}}]\n",
      "[{'index': 44, 'message': {'role': 'assistant', 'content': '可'}}]\n",
      "[{'index': 45, 'message': {'role': 'assistant', 'content': '*'}}]\n",
      "[]\n"
     ]
    },
    {
     "ename": "NameError",
     "evalue": "name 'JSONDecodeError' is not defined",
     "output_type": "error",
     "traceback": [
      "\u001b[0;31m---------------------------------------------------------------------------\u001b[0m",
      "\u001b[0;31mJSONDecodeError\u001b[0m                           Traceback (most recent call last)",
      "Cell \u001b[0;32mIn [30], line 4\u001b[0m\n\u001b[1;32m      3\u001b[0m \u001b[38;5;28;01mtry\u001b[39;00m:\n\u001b[0;32m----> 4\u001b[0m     resp_j \u001b[38;5;241m=\u001b[39m json\u001b[38;5;241m.\u001b[39mloads(resp)\n\u001b[1;32m      5\u001b[0m     \u001b[38;5;28mprint\u001b[39m(resp_j[\u001b[38;5;124m'\u001b[39m\u001b[38;5;124mchoice\u001b[39m\u001b[38;5;124m'\u001b[39m])\n",
      "File \u001b[0;32m/opt/homebrew/Cellar/python@3.10/3.10.6_2/Frameworks/Python.framework/Versions/3.10/lib/python3.10/json/__init__.py:346\u001b[0m, in \u001b[0;36mloads\u001b[0;34m(s, cls, object_hook, parse_float, parse_int, parse_constant, object_pairs_hook, **kw)\u001b[0m\n\u001b[1;32m    343\u001b[0m \u001b[38;5;28;01mif\u001b[39;00m (\u001b[38;5;28mcls\u001b[39m \u001b[38;5;129;01mis\u001b[39;00m \u001b[38;5;28;01mNone\u001b[39;00m \u001b[38;5;129;01mand\u001b[39;00m object_hook \u001b[38;5;129;01mis\u001b[39;00m \u001b[38;5;28;01mNone\u001b[39;00m \u001b[38;5;129;01mand\u001b[39;00m\n\u001b[1;32m    344\u001b[0m         parse_int \u001b[38;5;129;01mis\u001b[39;00m \u001b[38;5;28;01mNone\u001b[39;00m \u001b[38;5;129;01mand\u001b[39;00m parse_float \u001b[38;5;129;01mis\u001b[39;00m \u001b[38;5;28;01mNone\u001b[39;00m \u001b[38;5;129;01mand\u001b[39;00m\n\u001b[1;32m    345\u001b[0m         parse_constant \u001b[38;5;129;01mis\u001b[39;00m \u001b[38;5;28;01mNone\u001b[39;00m \u001b[38;5;129;01mand\u001b[39;00m object_pairs_hook \u001b[38;5;129;01mis\u001b[39;00m \u001b[38;5;28;01mNone\u001b[39;00m \u001b[38;5;129;01mand\u001b[39;00m \u001b[38;5;129;01mnot\u001b[39;00m kw):\n\u001b[0;32m--> 346\u001b[0m     \u001b[38;5;28;01mreturn\u001b[39;00m \u001b[43m_default_decoder\u001b[49m\u001b[38;5;241;43m.\u001b[39;49m\u001b[43mdecode\u001b[49m\u001b[43m(\u001b[49m\u001b[43ms\u001b[49m\u001b[43m)\u001b[49m\n\u001b[1;32m    347\u001b[0m \u001b[38;5;28;01mif\u001b[39;00m \u001b[38;5;28mcls\u001b[39m \u001b[38;5;129;01mis\u001b[39;00m \u001b[38;5;28;01mNone\u001b[39;00m:\n",
      "File \u001b[0;32m/opt/homebrew/Cellar/python@3.10/3.10.6_2/Frameworks/Python.framework/Versions/3.10/lib/python3.10/json/decoder.py:337\u001b[0m, in \u001b[0;36mJSONDecoder.decode\u001b[0;34m(self, s, _w)\u001b[0m\n\u001b[1;32m    333\u001b[0m \u001b[38;5;124;03m\"\"\"Return the Python representation of ``s`` (a ``str`` instance\u001b[39;00m\n\u001b[1;32m    334\u001b[0m \u001b[38;5;124;03mcontaining a JSON document).\u001b[39;00m\n\u001b[1;32m    335\u001b[0m \n\u001b[1;32m    336\u001b[0m \u001b[38;5;124;03m\"\"\"\u001b[39;00m\n\u001b[0;32m--> 337\u001b[0m obj, end \u001b[38;5;241m=\u001b[39m \u001b[38;5;28;43mself\u001b[39;49m\u001b[38;5;241;43m.\u001b[39;49m\u001b[43mraw_decode\u001b[49m\u001b[43m(\u001b[49m\u001b[43ms\u001b[49m\u001b[43m,\u001b[49m\u001b[43m \u001b[49m\u001b[43midx\u001b[49m\u001b[38;5;241;43m=\u001b[39;49m\u001b[43m_w\u001b[49m\u001b[43m(\u001b[49m\u001b[43ms\u001b[49m\u001b[43m,\u001b[49m\u001b[43m \u001b[49m\u001b[38;5;241;43m0\u001b[39;49m\u001b[43m)\u001b[49m\u001b[38;5;241;43m.\u001b[39;49m\u001b[43mend\u001b[49m\u001b[43m(\u001b[49m\u001b[43m)\u001b[49m\u001b[43m)\u001b[49m\n\u001b[1;32m    338\u001b[0m end \u001b[38;5;241m=\u001b[39m _w(s, end)\u001b[38;5;241m.\u001b[39mend()\n",
      "File \u001b[0;32m/opt/homebrew/Cellar/python@3.10/3.10.6_2/Frameworks/Python.framework/Versions/3.10/lib/python3.10/json/decoder.py:355\u001b[0m, in \u001b[0;36mJSONDecoder.raw_decode\u001b[0;34m(self, s, idx)\u001b[0m\n\u001b[1;32m    354\u001b[0m \u001b[38;5;28;01mexcept\u001b[39;00m \u001b[38;5;167;01mStopIteration\u001b[39;00m \u001b[38;5;28;01mas\u001b[39;00m err:\n\u001b[0;32m--> 355\u001b[0m     \u001b[38;5;28;01mraise\u001b[39;00m JSONDecodeError(\u001b[38;5;124m\"\u001b[39m\u001b[38;5;124mExpecting value\u001b[39m\u001b[38;5;124m\"\u001b[39m, s, err\u001b[38;5;241m.\u001b[39mvalue) \u001b[38;5;28;01mfrom\u001b[39;00m \u001b[38;5;28mNone\u001b[39m\n\u001b[1;32m    356\u001b[0m \u001b[38;5;28;01mreturn\u001b[39;00m obj, end\n",
      "\u001b[0;31mJSONDecodeError\u001b[0m: Expecting value: line 1 column 1 (char 0)",
      "\nDuring handling of the above exception, another exception occurred:\n",
      "\u001b[0;31mNameError\u001b[0m                                 Traceback (most recent call last)",
      "Cell \u001b[0;32mIn [30], line 6\u001b[0m\n\u001b[1;32m      4\u001b[0m     resp_j \u001b[38;5;241m=\u001b[39m json\u001b[38;5;241m.\u001b[39mloads(resp)\n\u001b[1;32m      5\u001b[0m     \u001b[38;5;28mprint\u001b[39m(resp_j[\u001b[38;5;124m'\u001b[39m\u001b[38;5;124mchoice\u001b[39m\u001b[38;5;124m'\u001b[39m])\n\u001b[0;32m----> 6\u001b[0m \u001b[38;5;28;01mexcept\u001b[39;00m JSONDecodeError:\n\u001b[1;32m      7\u001b[0m     \u001b[38;5;28mprint\u001b[39m(\u001b[38;5;124m\"\u001b[39m\u001b[38;5;124mInvalid JSON: \u001b[39m\u001b[38;5;124m\"\u001b[39m, resp)\n",
      "\u001b[0;31mNameError\u001b[0m: name 'JSONDecodeError' is not defined"
     ]
    }
   ],
   "source": [
    "while True:\n",
    "    resp = ws.recv()\n",
    "    try:\n",
    "        resp_j = json.loads(resp)\n",
    "        print(resp_j['choice'])\n",
    "    except JSONDecodeError:\n",
    "        print(\"Invalid JSON: \", resp)"
   ]
  },
  {
   "cell_type": "code",
   "execution_count": null,
   "id": "123e81ba",
   "metadata": {},
   "outputs": [],
   "source": []
  }
 ],
 "metadata": {
  "kernelspec": {
   "display_name": "Python 3 (ipykernel)",
   "language": "python",
   "name": "python3"
  },
  "language_info": {
   "codemirror_mode": {
    "name": "ipython",
    "version": 3
   },
   "file_extension": ".py",
   "mimetype": "text/x-python",
   "name": "python",
   "nbconvert_exporter": "python",
   "pygments_lexer": "ipython3",
   "version": "3.10.6"
  }
 },
 "nbformat": 4,
 "nbformat_minor": 5
}
