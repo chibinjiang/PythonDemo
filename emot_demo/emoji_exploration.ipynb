{
 "cells": [
  {
   "cell_type": "markdown",
   "id": "d7877b2d",
   "metadata": {},
   "source": [
    "### 文本处理之处理颜文字\n",
    "1. 可选处理:\n",
    "    - 删除颜文字\n",
    "    - 将实体的颜文字转成对应的单词\n",
    "    - 将带情感的颜文字转成对应的 token\n",
    "2. Emoji 大全: http://www.unicode.org/emoji/charts/emoji-list.html\n",
    "3. 应用: \n",
    "    - 帮助提高 情感分析的准确度\n",
    "    - "
   ]
  },
  {
   "cell_type": "code",
   "execution_count": 111,
   "id": "fe8be4b1",
   "metadata": {},
   "outputs": [],
   "source": [
    "import re\n",
    "import csv\n",
    "import json\n",
    "import pickle\n",
    "import numpy as np\n",
    "from emoji import demojize\n",
    "from emot.emo_unicode import UNICODE_EMOJI, EMOJI_UNICODE, EMOTICONS_EMO\n",
    "# from deepmoji.sentence_tokenizer import SentenceTokenizer\n",
    "# from deepmoji.model_def import deepmoji_feature_encoding\n",
    "# from deepmoji.global_variables import PRETRAINED_PATH, VOCAB_PATH"
   ]
  },
  {
   "cell_type": "markdown",
   "id": "7ae2bd55",
   "metadata": {},
   "source": [
    "### 使用 emot\n",
    "- Github: https://github.com/NeelShah18/emot\n",
    "- Tutorial: https://medium.com/geekculture/text-preprocessing-how-to-handle-emoji-emoticon-641bbfa6e9e7"
   ]
  },
  {
   "cell_type": "code",
   "execution_count": 103,
   "id": "7c7b3db7",
   "metadata": {},
   "outputs": [],
   "source": [
    "def load_emoji_vocab():\n",
    "    with open('Emoji_Dict.p', 'rb') as fp:\n",
    "        return {v: k for k, v in pickle.load(fp).items()}\n",
    "\n",
    "    \n",
    "def load_emoicon_vocab():\n",
    "    with open('Emoticon_Dict.p', 'rb') as fp:\n",
    "        return {v: k for k, v in pickle.load(fp).items()}\n",
    "    \n",
    "    \n",
    "def convert_emojis_to_word(text, emoji_mapping):\n",
    "    \"\"\"\n",
    "    这效率有点低呀\n",
    "    \"\"\"\n",
    "    for emot in emoji_mapping:\n",
    "        text = re.sub(r'('+emot+')', \"_\".join(emoji_mapping[emot].replace(\",\",\"\").replace(\":\",\"\").split()), text)\n",
    "    return text\n",
    "\n",
    "\n",
    "def convert_emojis_to_description(text):\n",
    "    for emj in UNICODE_EMOJI:\n",
    "        text = text.replace(emj, UNICODE_EMOJI[emj])\n",
    "    return text\n",
    "\n",
    "\n",
    "def convert_emoticons_to_description(text):\n",
    "    \"\"\"\n",
    "    将 文字表情转为 描述, 比如 :-)\n",
    "    \"\"\"\n",
    "    for emi in EMOTICONS_EMO:\n",
    "        label = EMOTICONS_EMO[emi].replace(\" \", \"_\").replace(\",\", \"_\").lower()\n",
    "        text = text.replace(emi, f\":{label}:\")\n",
    "    return text\n",
    "\n",
    "\n",
    "emoji_mapping = load_emoji_vocab()\n",
    "emoicon_mapping = load_emoicon_vocab()"
   ]
  },
  {
   "cell_type": "code",
   "execution_count": 104,
   "id": "2ccdaad7",
   "metadata": {},
   "outputs": [
    {
     "data": {
      "text/plain": [
       "'I won 1st_place_medal in cricket'"
      ]
     },
     "execution_count": 104,
     "metadata": {},
     "output_type": "execute_result"
    }
   ],
   "source": [
    "convert_emojis_to_word(\"I won 🥇 in 🏏\", emoji_mapping)"
   ]
  },
  {
   "cell_type": "code",
   "execution_count": 105,
   "id": "d7d5e47a",
   "metadata": {},
   "outputs": [
    {
     "data": {
      "text/plain": [
       "'I like to eat pizza'"
      ]
     },
     "execution_count": 105,
     "metadata": {},
     "output_type": "execute_result"
    }
   ],
   "source": [
    "convert_emojis_to_word(\"I like to eat 🍕\", emoji_mapping)"
   ]
  },
  {
   "cell_type": "code",
   "execution_count": 106,
   "id": "e01efadc",
   "metadata": {},
   "outputs": [
    {
     "data": {
      "text/plain": [
       "'Hilarious :face_with_tears_of_joy:. The feeling of making a sale :smiling_face_with_sunglasses:, The feeling of actually fulfilling orders :unamused_face:'"
      ]
     },
     "execution_count": 106,
     "metadata": {},
     "output_type": "execute_result"
    }
   ],
   "source": [
    "convert_emojis_to_placeholder(\"Hilarious 😂. The feeling of making a sale 😎, The feeling of actually fulfilling orders 😒\")"
   ]
  },
  {
   "cell_type": "code",
   "execution_count": 108,
   "id": "fab11f92",
   "metadata": {},
   "outputs": [
    {
     "data": {
      "text/plain": [
       "'Hello :happy_face_smiley: :happy_face_smiley:'"
      ]
     },
     "execution_count": 108,
     "metadata": {},
     "output_type": "execute_result"
    }
   ],
   "source": [
    "convert_emoticons_to_description(\"Hello :-) :-)\")"
   ]
  },
  {
   "cell_type": "code",
   "execution_count": 102,
   "id": "93f7cc0c",
   "metadata": {},
   "outputs": [
    {
     "data": {
      "text/plain": [
       "True"
      ]
     },
     "execution_count": 102,
     "metadata": {},
     "output_type": "execute_result"
    }
   ],
   "source": [
    "EMOJI_UNICODE[':face_with_tears_of_joy:'] == '😂'"
   ]
  },
  {
   "cell_type": "code",
   "execution_count": 51,
   "id": "8831eabc",
   "metadata": {},
   "outputs": [
    {
     "data": {
      "text/plain": [
       "'Nice app:‑:face_with_hand_over_mouth: I like it'"
      ]
     },
     "execution_count": 51,
     "metadata": {},
     "output_type": "execute_result"
    }
   ],
   "source": [
    "convert_emojis_to_placeholder(\"Nice app:‑🤭 I like it\")"
   ]
  },
  {
   "cell_type": "markdown",
   "id": "a6458398",
   "metadata": {},
   "source": [
    "### 使用 emoji\n",
    "- Github: https://github.com/carpedm20/emoji"
   ]
  },
  {
   "cell_type": "code",
   "execution_count": 53,
   "id": "bc33d4f9",
   "metadata": {},
   "outputs": [
    {
     "data": {
      "text/plain": [
       "'I won :1st_place_medal: in :cricket_bat_and_ball:'"
      ]
     },
     "execution_count": 53,
     "metadata": {},
     "output_type": "execute_result"
    }
   ],
   "source": [
    "demojize(\"I won 🥇 in 🏏\", emoji_mapping)"
   ]
  },
  {
   "cell_type": "code",
   "execution_count": 54,
   "id": "01a530d6",
   "metadata": {},
   "outputs": [
    {
     "data": {
      "text/plain": [
       "'I like to eat :pizza:'"
      ]
     },
     "execution_count": 54,
     "metadata": {},
     "output_type": "execute_result"
    }
   ],
   "source": [
    "demojize(\"I like to eat 🍕\", emoji_mapping)"
   ]
  },
  {
   "cell_type": "code",
   "execution_count": 55,
   "id": "254c5d61",
   "metadata": {},
   "outputs": [
    {
     "data": {
      "text/plain": [
       "'Hilarious :face_with_tears_of_joy:. The feeling of making a sale :smiling_face_with_sunglasses:, The feeling of actually fulfilling orders :unamused_face:'"
      ]
     },
     "execution_count": 55,
     "metadata": {},
     "output_type": "execute_result"
    }
   ],
   "source": [
    "demojize(\"Hilarious 😂. The feeling of making a sale 😎, The feeling of actually fulfilling orders 😒\")"
   ]
  },
  {
   "cell_type": "code",
   "execution_count": 56,
   "id": "5eac81f2",
   "metadata": {},
   "outputs": [
    {
     "data": {
      "text/plain": [
       "'Nice app:‑:face_with_hand_over_mouth: I like it'"
      ]
     },
     "execution_count": 56,
     "metadata": {},
     "output_type": "execute_result"
    }
   ],
   "source": [
    "demojize(\"Nice app:‑🤭 I like it\")"
   ]
  },
  {
   "cell_type": "code",
   "execution_count": 109,
   "id": "8fb8a455",
   "metadata": {},
   "outputs": [
    {
     "data": {
      "text/plain": [
       "'Hello :-) :-)'"
      ]
     },
     "execution_count": 109,
     "metadata": {},
     "output_type": "execute_result"
    }
   ],
   "source": [
    "demojize(\"Hello :-) :-)\")"
   ]
  },
  {
   "cell_type": "markdown",
   "id": "d5e815cf",
   "metadata": {},
   "source": [
    "### 使用 DeepMoji\n",
    "- official site: https://deepmoji.mit.edu/\n",
    "- Github: https://github.com/bfelbo/DeepMoji/tree/master/examples\n",
    "- Tutorial: https://medium.com/@bjarkefelbo/what-can-we-learn-from-emojis-6beb165a5ea0\n"
   ]
  },
  {
   "cell_type": "markdown",
   "id": "774a6d95",
   "metadata": {},
   "source": [
    "Use DeepMoji to encode texts into emotional feature vectors."
   ]
  },
  {
   "cell_type": "code",
   "execution_count": null,
   "id": "8dfebac2",
   "metadata": {},
   "outputs": [],
   "source": []
  }
 ],
 "metadata": {
  "kernelspec": {
   "display_name": "Python 3 (ipykernel)",
   "language": "python",
   "name": "python3"
  },
  "language_info": {
   "codemirror_mode": {
    "name": "ipython",
    "version": 3
   },
   "file_extension": ".py",
   "mimetype": "text/x-python",
   "name": "python",
   "nbconvert_exporter": "python",
   "pygments_lexer": "ipython3",
   "version": "3.10.2"
  }
 },
 "nbformat": 4,
 "nbformat_minor": 5
}
